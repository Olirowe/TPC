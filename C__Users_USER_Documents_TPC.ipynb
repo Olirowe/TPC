{
 "cells": [
  {
   "cell_type": "markdown",
   "id": "f418fd4b",
   "metadata": {},
   "source": [
    "<img src=\"images/logo.jpeg\">"
   ]
  },
  {
   "cell_type": "markdown",
   "id": "8ee6d2eb",
   "metadata": {},
   "source": [
    "# Assignment 1: Introduction to Python\n",
    "\n",
    "This assignment tests the Python skills you have learnt in the per-course Datacamp lectures.\n",
    "\n",
    "Notes:\n",
    "- You should not hardcode a solution to any of the questions below. Doing so will result in a mark of 0 for the question."
   ]
  },
  {
   "cell_type": "code",
   "execution_count": 2,
   "id": "1d7a821b",
   "metadata": {},
   "outputs": [],
   "source": [
    "import numpy as np\n",
    "import matplotlib.pyplot as plt"
   ]
  },
  {
   "cell_type": "markdown",
   "id": "a10dfcf0",
   "metadata": {},
   "source": [
    "## Collections, NumPy and Matplotlib"
   ]
  },
  {
   "cell_type": "markdown",
   "id": "e4336869",
   "metadata": {},
   "source": [
    "Answer the next few questions using the list created in the following code block:"
   ]
  },
  {
   "cell_type": "code",
   "execution_count": 133,
   "id": "c60e00fa",
   "metadata": {},
   "outputs": [
    {
     "name": "stdout",
     "output_type": "stream",
     "text": [
      "[6, -1, 9, 5, 3, -2, 9, 1, -5, 2, -5, 0, -2, -3, 1, 7, -4, 1, 3, -5]\n"
     ]
    }
   ],
   "source": [
    "\n",
    "my_list = list(np.random.randint(low=-5, high=10, size=20))\n",
    "print(my_list)"
   ]
  },
  {
   "cell_type": "markdown",
   "id": "0ab18ad9",
   "metadata": {},
   "source": [
    "1.) Display the given list in reverse order. [1 point]"
   ]
  },
  {
   "cell_type": "code",
   "execution_count": 134,
   "id": "7f9320c3",
   "metadata": {},
   "outputs": [
    {
     "name": "stdout",
     "output_type": "stream",
     "text": [
      "[-5  3  1 -4  7  1 -3 -2  0 -5  2 -5  1  9 -2  3  5  9 -1  6]\n"
     ]
    }
   ],
   "source": [
    "reverse_list = np.flip(my_list)\n",
    "print(reverse_list)"
   ]
  },
  {
   "cell_type": "markdown",
   "id": "17ae7f2a",
   "metadata": {},
   "source": [
    "2.) Square every element in the list [1 point]"
   ]
  },
  {
   "cell_type": "code",
   "execution_count": 135,
   "id": "ed25f99f",
   "metadata": {},
   "outputs": [
    {
     "name": "stdout",
     "output_type": "stream",
     "text": [
      "[36  1 81 25  9  4 81  1 25  4 25  0  4  9  1 49 16  1  9 25]\n"
     ]
    }
   ],
   "source": [
    "squared_list = np.square(my_list)\n",
    "print(squared_list)\n",
    "\n"
   ]
  },
  {
   "cell_type": "markdown",
   "id": "c3b62768",
   "metadata": {},
   "source": [
    "3.) Remove all of the negatigve values from the list [1 point]"
   ]
  },
  {
   "cell_type": "code",
   "execution_count": 136,
   "id": "379fdec1",
   "metadata": {},
   "outputs": [
    {
     "name": "stdout",
     "output_type": "stream",
     "text": [
      "[6 9 5 3 9 1 2 0 1 7 1 3]\n"
     ]
    }
   ],
   "source": [
    "\n",
    "\n",
    "print(np.array(my_list)[np.array(my_list) >= 0])\n",
    "\n"
   ]
  },
  {
   "cell_type": "markdown",
   "id": "47db780b",
   "metadata": {},
   "source": [
    "4.) Find the index of the largest element in the list [1 point]"
   ]
  },
  {
   "cell_type": "code",
   "execution_count": 137,
   "id": "5d0ee689",
   "metadata": {},
   "outputs": [
    {
     "name": "stdout",
     "output_type": "stream",
     "text": [
      "2\n"
     ]
    }
   ],
   "source": [
    "print(np.array(my_list).argmax())\n"
   ]
  },
  {
   "cell_type": "markdown",
   "id": "2e5f9f6c",
   "metadata": {},
   "source": [
    "5.) Print out the number of occurrences of each of the element in the list, using the following format: [1 point]\n",
    "\n",
    "\"x occurs y times in the list\""
   ]
  },
  {
   "cell_type": "code",
   "execution_count": 138,
   "id": "8ae3a70b",
   "metadata": {},
   "outputs": [
    {
     "name": "stdout",
     "output_type": "stream",
     "text": [
      " 6 occurs 1 times in the list \n",
      " -1 occurs 1 times in the list \n",
      " 9 occurs 2 times in the list \n",
      " 5 occurs 1 times in the list \n",
      " 3 occurs 2 times in the list \n",
      " -2 occurs 2 times in the list \n",
      " 9 occurs 2 times in the list \n",
      " 1 occurs 3 times in the list \n",
      " -5 occurs 3 times in the list \n",
      " 2 occurs 1 times in the list \n",
      " -5 occurs 3 times in the list \n",
      " 0 occurs 1 times in the list \n",
      " -2 occurs 2 times in the list \n",
      " -3 occurs 1 times in the list \n",
      " 1 occurs 3 times in the list \n",
      " 7 occurs 1 times in the list \n",
      " -4 occurs 1 times in the list \n",
      " 1 occurs 3 times in the list \n",
      " 3 occurs 2 times in the list \n",
      " -5 occurs 3 times in the list \n"
     ]
    }
   ],
   "source": [
    "for element in my_list:\n",
    "    print(f\" {element} occurs {my_list.count(element)} times in the list \" )"
   ]
  },
  {
   "cell_type": "markdown",
   "id": "5a6cb54b",
   "metadata": {},
   "source": [
    "Use the following data for the next few questions:"
   ]
  },
  {
   "cell_type": "code",
   "execution_count": 28,
   "id": "d1a7d64b",
   "metadata": {},
   "outputs": [],
   "source": [
    "names = [\"Northern Cape\", \"Eastern Cape\", \"Western Cape\"]\n",
    "areas = [372889, 168966, 129462]\n",
    "provinces = {'Free State': 129825, 'Limpopo': 125755, 'North West': 104882, 'KwaZulu-Natal': 94361, 'Mpumalanga': 76495, 'Gauteng': 18178}"
   ]
  },
  {
   "cell_type": "markdown",
   "id": "cf1a8343",
   "metadata": {},
   "source": [
    "xx.) Create a dictionary, `cape`, of the the Cape province names and their corresponding areas [1 point]"
   ]
  },
  {
   "cell_type": "code",
   "execution_count": 29,
   "id": "70da5d42",
   "metadata": {},
   "outputs": [
    {
     "name": "stdout",
     "output_type": "stream",
     "text": [
      "{'Northern Cape': 372889, 'Eastern Cape': 168966, 'Western Cape': 129462}\n"
     ]
    }
   ],
   "source": [
    "cape_zip = zip(names,areas)\n",
    "cape = dict(cape_zip)\n",
    "print(cape)"
   ]
  },
  {
   "cell_type": "markdown",
   "id": "bc81509e",
   "metadata": {},
   "source": [
    "xx.) Update the `provinces` dictionary to include the `cape` data using an appropriate built-in dictionary function [1 point]"
   ]
  },
  {
   "cell_type": "code",
   "execution_count": 30,
   "id": "7ee5256d",
   "metadata": {},
   "outputs": [],
   "source": [
    "provinces.update(cape)"
   ]
  },
  {
   "cell_type": "markdown",
   "id": "5e56def4",
   "metadata": {},
   "source": [
    "xx.) Print out the sum of the areas of all of the provinces [1 point]"
   ]
  },
  {
   "cell_type": "code",
   "execution_count": 32,
   "id": "37225db9",
   "metadata": {},
   "outputs": [
    {
     "name": "stdout",
     "output_type": "stream",
     "text": [
      "1220813\n"
     ]
    }
   ],
   "source": [
    "print(sum(provinces.values()))\n"
   ]
  },
  {
   "cell_type": "markdown",
   "id": "0ad53225",
   "metadata": {},
   "source": [
    "xx.) Display the provinces and their corresponding areas in alphabetical order [1 point]"
   ]
  },
  {
   "cell_type": "code",
   "execution_count": 82,
   "id": "5836046f",
   "metadata": {},
   "outputs": [
    {
     "name": "stdout",
     "output_type": "stream",
     "text": [
      "Eastern Cape : 168966\n",
      "Free State : 129825\n",
      "Gauteng : 18178\n",
      "KwaZulu-Natal : 94361\n",
      "Limpopo : 125755\n",
      "Mpumalanga : 76495\n",
      "North West : 104882\n",
      "Northern Cape : 372889\n",
      "Western Cape : 129462\n"
     ]
    }
   ],
   "source": [
    "# Insert code here\n",
    "for key,value in sorted(provinces.items()):\n",
    "    print(f\"{key} : {value}\" )"
   ]
  },
  {
   "cell_type": "markdown",
   "id": "1551d2c4",
   "metadata": {},
   "source": [
    "Using `matplotlib`, plot a barplot of the sizes of the provinces. \n",
    "\n",
    "The sizes should be on the y-axis, and the province names on the x-axis. Specify an appropriate title, add an x- and y-label, and rotate the x-axis labels.\n",
    "[5 points]"
   ]
  },
  {
   "cell_type": "code",
   "execution_count": 38,
   "id": "ffc09aaf",
   "metadata": {},
   "outputs": [
    {
     "data": {
      "text/plain": [
       "<function matplotlib.pyplot.show(close=None, block=None)>"
      ]
     },
     "execution_count": 38,
     "metadata": {},
     "output_type": "execute_result"
    },
    {
     "data": {
      "image/png": "[encoded data removed]",
      "text/plain": [
       "<Figure size 432x288 with 1 Axes>"
      ]
     },
     "metadata": {
      "needs_background": "light"
     },
     "output_type": "display_data"
    }
   ],
   "source": [
    "# insert code here\n",
    "plt.bar(provinces.keys(), provinces.values())\n",
    "plt.xticks(rotation = 90)\n",
    "plt.show"
   ]
  },
  {
   "cell_type": "markdown",
   "id": "783e9e4a",
   "metadata": {},
   "source": [
    "Use the following matrices and vectors for the next few questions:"
   ]
  },
  {
   "cell_type": "code",
   "execution_count": 40,
   "id": "1a4fff67",
   "metadata": {},
   "outputs": [
    {
     "name": "stdout",
     "output_type": "stream",
     "text": [
      "A = \n",
      "[[5 1 3]\n",
      " [3 7 5]\n",
      " [3 1 9]]\n",
      "\n",
      "B = \n",
      "[[2 2 6]\n",
      " [3 1 4]\n",
      " [4 6 4]]\n",
      "\n",
      "vec1 = \n",
      "[7 7 4]\n",
      "\n",
      "vec2 = \n",
      "[1 3 9]\n",
      "\n"
     ]
    }
   ],
   "source": [
    "A = np.random.randint(low=0, high=10, size=(3, 3))\n",
    "B = np.random.randint(low=0, high=10, size=(3, 3))\n",
    "vec1 = np.random.randint(low=0, high=10, size=3)\n",
    "vec2 = np.random.randint(low=0, high=10, size=3)\n",
    "print(f\"A = \\n{A}\\n\")\n",
    "print(f\"B = \\n{B}\\n\")\n",
    "print(f\"vec1 = \\n{vec1}\\n\")\n",
    "print(f\"vec2 = \\n{vec2}\\n\")"
   ]
  },
  {
   "cell_type": "markdown",
   "id": "2d0dab86",
   "metadata": {},
   "source": [
    "xx.) Find the average of the entries in `vec1` and print the result. [1 point]"
   ]
  },
  {
   "cell_type": "code",
   "execution_count": 41,
   "id": "51498b75",
   "metadata": {},
   "outputs": [
    {
     "data": {
      "text/plain": [
       "6.0"
      ]
     },
     "execution_count": 41,
     "metadata": {},
     "output_type": "execute_result"
    }
   ],
   "source": [
    "# Insert code\n",
    "np.average(vec1)"
   ]
  },
  {
   "cell_type": "markdown",
   "id": "1c428caf",
   "metadata": {},
   "source": [
    "xx.) Find the element-wise difference between `vec1` and `vec2`, and print the result. [1 point]"
   ]
  },
  {
   "cell_type": "code",
   "execution_count": 42,
   "id": "bd444228",
   "metadata": {},
   "outputs": [
    {
     "name": "stdout",
     "output_type": "stream",
     "text": [
      "[ 6  4 -5]\n"
     ]
    }
   ],
   "source": [
    "# insert code here\n",
    "print(vec1 - vec2)"
   ]
  },
  {
   "cell_type": "markdown",
   "id": "5aefe8a3",
   "metadata": {},
   "source": [
    "xx.) Find the Euclidean distance between `vec1` and `vec2`. [1 point]"
   ]
  },
  {
   "cell_type": "code",
   "execution_count": 48,
   "id": "10da946e",
   "metadata": {},
   "outputs": [
    {
     "name": "stdout",
     "output_type": "stream",
     "text": [
      "5.0\n"
     ]
    }
   ],
   "source": [
    "# insert code here\n",
    "\n",
    "euclid = np.sqrt(np.sum(vec1-vec2) ** 2)\n",
    "print(euclid)"
   ]
  },
  {
   "cell_type": "markdown",
   "id": "a06c9624",
   "metadata": {},
   "source": [
    "xx.) Find the cosine distance between `vec1` and `vec2`. [1 point]"
   ]
  },
  {
   "cell_type": "code",
   "execution_count": 18,
   "id": "f52594f3",
   "metadata": {},
   "outputs": [
    {
     "name": "stdout",
     "output_type": "stream",
     "text": [
      "Cosine distance: 0.74\n"
     ]
    }
   ],
   "source": [
    "# insert code here\n",
    "from scipy import distance\n",
    "\n",
    "cosine_dist = distance.cosine(vec1,vec2)\n"
   ]
  },
  {
   "cell_type": "markdown",
   "id": "82065fb5",
   "metadata": {},
   "source": [
    "xx.) Scale (multiply) all the entries of `vec1` by its mean, and print the result. [1 point]"
   ]
  },
  {
   "cell_type": "code",
   "execution_count": 49,
   "id": "9b9f7282",
   "metadata": {},
   "outputs": [
    {
     "name": "stdout",
     "output_type": "stream",
     "text": [
      "[42. 42. 24.]\n"
     ]
    }
   ],
   "source": [
    "# insert code here\n",
    "vec1_scale = np.mean(vec1)\n",
    "vec1_scaled = vec1 * vec1_scale\n",
    "print(vec1_scaled)"
   ]
  },
  {
   "cell_type": "markdown",
   "id": "7e6f54e3",
   "metadata": {},
   "source": [
    "xx.) Normalize `vec1` and print the result. [1 point]"
   ]
  },
  {
   "cell_type": "code",
   "execution_count": 50,
   "id": "dea0652c",
   "metadata": {},
   "outputs": [
    {
     "name": "stdout",
     "output_type": "stream",
     "text": [
      "10.677078252031311\n"
     ]
    }
   ],
   "source": [
    "# insert code here\n",
    "vec1_norm = np.linalg.norm(vec1)\n",
    "print(vec1_norm)"
   ]
  },
  {
   "cell_type": "markdown",
   "id": "97a25158",
   "metadata": {},
   "source": [
    "xx.) Find the matrix product of `A` and `B` [1 point]"
   ]
  },
  {
   "cell_type": "code",
   "execution_count": 52,
   "id": "264eb044",
   "metadata": {},
   "outputs": [
    {
     "name": "stdout",
     "output_type": "stream",
     "text": [
      "[[25 29 46]\n",
      " [47 43 66]\n",
      " [45 61 58]]\n"
     ]
    }
   ],
   "source": [
    "# insert code here\n",
    "matrix_product = np.matmul(A,B)\n",
    "print(matrix_product)"
   ]
  },
  {
   "cell_type": "markdown",
   "id": "4cea4664",
   "metadata": {},
   "source": [
    "xx.) Given the matrix, `A`, subtract the column mean of `A` from each entry. This has the effect of zero-centering the data and is often done in algorithms such as principal components analysis or when running computer vision models. [1 point]"
   ]
  },
  {
   "cell_type": "code",
   "execution_count": 53,
   "id": "5ebea32e",
   "metadata": {},
   "outputs": [
    {
     "name": "stdout",
     "output_type": "stream",
     "text": [
      "[[ 2.         -4.         -1.33333333]\n",
      " [ 0.          2.          0.66666667]\n",
      " [ 0.         -4.          4.66666667]]\n"
     ]
    }
   ],
   "source": [
    "# Insert cdoe\n",
    "a_matrix = A - np.mean(A, axis = 1)\n",
    "print(a_matrix)"
   ]
  },
  {
   "cell_type": "markdown",
   "id": "8c053408",
   "metadata": {},
   "source": [
    "xx.) Given a vector `vec1`, compute the softmax scores of the vector. [1 point]\n"
   ]
  },
  {
   "cell_type": "code",
   "execution_count": 57,
   "id": "063ae0dd",
   "metadata": {},
   "outputs": [
    {
     "name": "stdout",
     "output_type": "stream",
     "text": [
      "[0.48785555 0.48785555 0.0242889 ]\n"
     ]
    }
   ],
   "source": [
    "# Insert code\n",
    "import scipy\n",
    "softmax_score = scipy.special.softmax(vec1)\n",
    "print(softmax_score)"
   ]
  },
  {
   "cell_type": "markdown",
   "id": "98ee1dcd",
   "metadata": {},
   "source": [
    "# Functions"
   ]
  },
  {
   "cell_type": "markdown",
   "id": "b43b4159",
   "metadata": {},
   "source": [
    "Write a function named `sign`, which returns a string `positive`, `negative`, or `zero`, given an interger value as input to the function [3 points]."
   ]
  },
  {
   "cell_type": "code",
   "execution_count": 60,
   "id": "7b747f52",
   "metadata": {},
   "outputs": [
    {
     "name": "stdout",
     "output_type": "stream",
     "text": [
      "negative\n",
      "zero\n",
      "positive\n"
     ]
    }
   ],
   "source": [
    "# insert code here\n",
    "def sign(x):\n",
    "    if x > 0:\n",
    "        string = 'positive'\n",
    "    elif x < 0:\n",
    "        string = 'negative'\n",
    "    else:\n",
    "        string = 'zero'\n",
    "        \n",
    "    return string\n",
    "    \n",
    "\n",
    "# Test\n",
    "for x in [-1, 0, 1]:\n",
    "  print(sign(x))"
   ]
  },
  {
   "cell_type": "markdown",
   "id": "727e2c36",
   "metadata": {},
   "source": [
    "Write a fuction that returns the minimum value given an arbitrary number of integers as input paramters. [4 points]"
   ]
  },
  {
   "cell_type": "code",
   "execution_count": 73,
   "id": "b5f6df18",
   "metadata": {},
   "outputs": [
    {
     "name": "stdout",
     "output_type": "stream",
     "text": [
      "2\n",
      "-10\n"
     ]
    }
   ],
   "source": [
    "# Insert function \n",
    "def my_min(*inp):\n",
    "    \n",
    "    comp = inp[0]\n",
    "    for i in inp:\n",
    "        if i < comp:\n",
    "            comp = i\n",
    "    return comp\n",
    "\n",
    "    \n",
    "\n",
    "# Test\n",
    "print(my_min(4, 5, 6, 7, 2)) # returns 2\n",
    "print(my_min(-10, 5, 3, -4, 1, 10, 3, 6)) # returns -10"
   ]
  },
  {
   "cell_type": "markdown",
   "id": "66ab2aa5",
   "metadata": {},
   "source": [
    "Write a recursive function to display the Fibonacci sequence using recursion. \n",
    "\n",
    "The first two terms are 0 and 1. All other terms are obtained by adding the preceding two terms i.e. the n-th term is the sum of (n-1)-th and (n-2)-th term. [4 points]"
   ]
  },
  {
   "cell_type": "code",
   "execution_count": 74,
   "id": "4f40f09a",
   "metadata": {},
   "outputs": [
    {
     "name": "stdout",
     "output_type": "stream",
     "text": [
      "0\n",
      "1\n",
      "1\n",
      "2\n",
      "3\n",
      "5\n",
      "8\n",
      "13\n",
      "21\n",
      "34\n"
     ]
    }
   ],
   "source": [
    "# Insert code here\n",
    "def recur_fibo(n):\n",
    "    if n <= 1:\n",
    "        return n\n",
    "    else:\n",
    "        return recur_fibo(n-1) + recur_fibo(n-2)\n",
    "        \n",
    "# Test\n",
    "for i in range(10):\n",
    "  print(recur_fibo(i))"
   ]
  },
  {
   "cell_type": "markdown",
   "id": "16c05ca7",
   "metadata": {},
   "source": [
    "# Classes\n",
    "\n"
   ]
  },
  {
   "cell_type": "markdown",
   "id": "70e4faad",
   "metadata": {},
   "source": [
    "Create a class called `Circle`.\n",
    "You are required to implement the following:\n",
    "* The constructor of the class should take two floats that specify the `x` and `y` coordinates of the circle, a float specifying the `radius` of the circle. [2 points]\n",
    "* A function, `str_circle`, which prints properties of a circle as follow: [2 points]\n",
    "            Circle at location x = ___ and y = ___ with radius = ___\n",
    "* A function, `dist`, which returns the euclidean distance between two circles' centers. [4 points]\n",
    "* A function,`overlap`, which returns `True` if two circles overlap and `False` otherwise. [3 points]\n",
    "* A function, `area`, which calculates the area of the circle. [3 point].\n",
    "* A function, `overlap_area`, which calculates the area of the overlapping portion of two circles. [6 points]\n",
    "\n",
    "The formula for calculating the overlapping area between two circles is provided below:\n",
    "\n",
    "\\begin{equation}\n",
    "\\small\n",
    "A = \n",
    "r^2\\text{cos}^{-1}(\\frac{d^2+r^2-R^2}{2dr}) + R^2\\text{cos}^{-1}(\\frac{d^2+R^2-r^2}{2dR}) -\n",
    "\\frac{1}{2}\\sqrt{(-d+r+R)(d+r-R)(d-r+R)(d+r+R)}\n",
    "\\end{equation}\n",
    "\n",
    "where\n",
    "\n",
    "$\\;\\;\\;\\;\\;\\;\\;\\;$A = area of overlapping <br>\n",
    "$\\;\\;\\;\\;\\;\\;\\;\\;$r = radius of circle 1 <br>\n",
    "$\\;\\;\\;\\;\\;\\;\\;\\;$R = radius of circle 2 <br>\n",
    "$\\;\\;\\;\\;\\;\\;\\;\\;$d = distance between the circles <br>"
   ]
  },
  {
   "cell_type": "code",
   "execution_count": 105,
   "id": "ccf753ff",
   "metadata": {},
   "outputs": [],
   "source": [
    "import math\n",
    "\n",
    "# Insert class here:\n",
    "class Circle:\n",
    "    # Insert constructor code\n",
    "    def __init__(self, x, y, rad):\n",
    "        self.x = x\n",
    "        self.y = y\n",
    "        self.rad = rad\n",
    "    \n",
    "    def str_circle(self):\n",
    "        # Insert code\n",
    "        print(f\" Circle at location x = {self.x} and y = {self.y} with radius = {self.rad} \")\n",
    "\n",
    "    def dist(self, other):\n",
    "        # Insert code\n",
    "        dist = math.sqrt((self.x - other.x) ** 2 + (self.y - other.y) ** 2)\n",
    "        return dist\n",
    "\n",
    "    def overlap(self, other):\n",
    "        # Insert code\n",
    "        if self.dist(other) < self.rad + other.rad:\n",
    "              return True\n",
    "        else:\n",
    "              return False\n",
    "        \n",
    "    def area(self):\n",
    "        # Insert code\n",
    "        return math.pi * self.rad **2\n",
    "\n",
    "    def overlap_area(self, other):\n",
    "        # Insert code\n",
    "        if self.overlap(other) == True:\n",
    "            r = self.rad\n",
    "            R = other.rad\n",
    "            d = self.dist(other)\n",
    "            A = r ** 2 * acos((d ** 2 + r ** 2)/(2*d*r)) + R**2*acos((d**2+r**2)/(2*d*R))-0.5*sqrt((-d+r+R)*(d+r-R)*(d+r+R))\n",
    "            return A\n",
    "        else:\n",
    "            return 0\n"
   ]
  },
  {
   "cell_type": "markdown",
   "id": "05c9b5fe",
   "metadata": {},
   "source": [
    "The next few snippets of code can be used to verify that your implementation of the functions of `Circle` is working correctly."
   ]
  },
  {
   "cell_type": "markdown",
   "id": "3e8f980d",
   "metadata": {},
   "source": [
    "Create the following two circles: [1 point]\n",
    "* `circle1`: x = 2, y = 1, rad = 1\n",
    "* `circle2`: x = -1, y = -2, rad = 3 "
   ]
  },
  {
   "cell_type": "code",
   "execution_count": 106,
   "id": "b9bcea1f",
   "metadata": {},
   "outputs": [],
   "source": [
    "# insert code\n",
    "circle1 = Circle(2,1,1)\n",
    "circle2 = Circle(-1,-2,3)\n"
   ]
  },
  {
   "cell_type": "markdown",
   "id": "554dd45e",
   "metadata": {},
   "source": [
    "Print out the circles using `str_circle`"
   ]
  },
  {
   "cell_type": "code",
   "execution_count": 96,
   "id": "2ec37716",
   "metadata": {},
   "outputs": [
    {
     "name": "stdout",
     "output_type": "stream",
     "text": [
      " Circle at location x = 2 and y = 1 with radius = 1 \n",
      "None\n",
      " Circle at location x = -1 and y = -2 with radius = 3 \n",
      "None\n"
     ]
    }
   ],
   "source": [
    "# insert code\n",
    "print(circle1.str_circle())\n",
    "print(circle2.str_circle())"
   ]
  },
  {
   "cell_type": "markdown",
   "id": "e2482d8f",
   "metadata": {},
   "source": [
    "Print the distance between circle 1 and 2."
   ]
  },
  {
   "cell_type": "code",
   "execution_count": 97,
   "id": "3c3ccede",
   "metadata": {},
   "outputs": [
    {
     "name": "stdout",
     "output_type": "stream",
     "text": [
      "4.242640687119285\n"
     ]
    }
   ],
   "source": [
    "# call dist( ) here and print out the result\n",
    "# insert code\n",
    "print(circle1.dist(circle2))"
   ]
  },
  {
   "cell_type": "markdown",
   "id": "f281a556",
   "metadata": {},
   "source": [
    "Check if `circle1` and `circle2` overlap."
   ]
  },
  {
   "cell_type": "code",
   "execution_count": 101,
   "id": "30f9d496",
   "metadata": {
    "scrolled": true
   },
   "outputs": [
    {
     "data": {
      "text/plain": [
       "False"
      ]
     },
     "execution_count": 101,
     "metadata": {},
     "output_type": "execute_result"
    }
   ],
   "source": [
    "# insert code\n",
    "circle1.overlap(circle2)"
   ]
  },
  {
   "cell_type": "markdown",
   "id": "3dc4df14",
   "metadata": {},
   "source": [
    "Print out the area of `circle1` and `circle2`."
   ]
  },
  {
   "cell_type": "code",
   "execution_count": 107,
   "id": "d4c08125",
   "metadata": {},
   "outputs": [
    {
     "name": "stdout",
     "output_type": "stream",
     "text": [
      "3.141592653589793\n",
      "28.274333882308138\n"
     ]
    }
   ],
   "source": [
    "# insert code\n",
    "print(circle1.area())\n",
    "print(circle2.area())"
   ]
  },
  {
   "cell_type": "markdown",
   "id": "e56f4d2e",
   "metadata": {},
   "source": [
    "Print out the overlapping area of `circle1` and `circle2`. "
   ]
  },
  {
   "cell_type": "code",
   "execution_count": 108,
   "id": "784b25af",
   "metadata": {},
   "outputs": [
    {
     "name": "stdout",
     "output_type": "stream",
     "text": [
      "Overlapping area: 0.00\n"
     ]
    }
   ],
   "source": [
    "# insert code\n",
    "print(\"Overlapping area: %.2f\" % circle1.overlap_area(circle2))"
   ]
  },
  {
   "cell_type": "code",
   "execution_count": null,
   "id": "cb4f2adb",
   "metadata": {},
   "outputs": [],
   "source": []
  }
 ],
 "metadata": {
  "kernelspec": {
   "display_name": "Python 3",
   "language": "python",
   "name": "python3"
  },
  "language_info": {
   "codemirror_mode": {
    "name": "ipython",
    "version": 3
   },
   "file_extension": ".py",
   "mimetype": "text/x-python",
   "name": "python",
   "nbconvert_exporter": "python",
   "pygments_lexer": "ipython3",
   "version": "3.8.8"
  }
 },
 "nbformat": 4,
 "nbformat_minor": 5
}
